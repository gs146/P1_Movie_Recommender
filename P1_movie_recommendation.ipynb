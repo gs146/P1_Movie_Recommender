{
  "nbformat": 4,
  "nbformat_minor": 0,
  "metadata": {
    "colab": {
      "name": "P1_movie_recommendation.ipynb",
      "version": "0.3.2",
      "provenance": [],
      "collapsed_sections": []
    },
    "kernelspec": {
      "name": "python3",
      "display_name": "Python 3"
    },
    "accelerator": "GPU"
  },
  "cells": [
    {
      "metadata": {
        "id": "Vk9MovHpzcj4",
        "colab_type": "code",
        "colab": {}
      },
      "cell_type": "code",
      "source": [
        "import numpy as np"
      ],
      "execution_count": 0,
      "outputs": []
    },
    {
      "metadata": {
        "id": "bF24oIY2zj5h",
        "colab_type": "code",
        "colab": {}
      },
      "cell_type": "code",
      "source": [
        "\n"
      ],
      "execution_count": 0,
      "outputs": []
    },
    {
      "metadata": {
        "id": "mKU78iNzzv1Z",
        "colab_type": "code",
        "outputId": "72a315fe-9038-4ece-c529-f80346c22b13",
        "colab": {
          "base_uri": "https://localhost:8080/",
          "height": 163
        }
      },
      "cell_type": "code",
      "source": [
        "!pip install lightfm"
      ],
      "execution_count": 0,
      "outputs": [
        {
          "output_type": "stream",
          "text": [
            "Requirement already satisfied: lightfm in /usr/local/lib/python3.6/dist-packages (1.15)\n",
            "Requirement already satisfied: scipy>=0.17.0 in /usr/local/lib/python3.6/dist-packages (from lightfm) (1.1.0)\n",
            "Requirement already satisfied: requests in /usr/local/lib/python3.6/dist-packages (from lightfm) (2.18.4)\n",
            "Requirement already satisfied: numpy in /usr/local/lib/python3.6/dist-packages (from lightfm) (1.14.6)\n",
            "Requirement already satisfied: chardet<3.1.0,>=3.0.2 in /usr/local/lib/python3.6/dist-packages (from requests->lightfm) (3.0.4)\n",
            "Requirement already satisfied: idna<2.7,>=2.5 in /usr/local/lib/python3.6/dist-packages (from requests->lightfm) (2.6)\n",
            "Requirement already satisfied: certifi>=2017.4.17 in /usr/local/lib/python3.6/dist-packages (from requests->lightfm) (2018.11.29)\n",
            "Requirement already satisfied: urllib3<1.23,>=1.21.1 in /usr/local/lib/python3.6/dist-packages (from requests->lightfm) (1.22)\n"
          ],
          "name": "stdout"
        }
      ]
    },
    {
      "metadata": {
        "id": "O0lVqYeOz6_l",
        "colab_type": "code",
        "colab": {}
      },
      "cell_type": "code",
      "source": [
        "from lightfm.datasets import fetch_movielens"
      ],
      "execution_count": 0,
      "outputs": []
    },
    {
      "metadata": {
        "id": "oyrtLfMz0LxH",
        "colab_type": "code",
        "colab": {}
      },
      "cell_type": "code",
      "source": [
        "from lightfm import LightFM"
      ],
      "execution_count": 0,
      "outputs": []
    },
    {
      "metadata": {
        "id": "eBsMZCLM0h12",
        "colab_type": "code",
        "colab": {}
      },
      "cell_type": "code",
      "source": [
        "data= fetch_movielens(min_rating =4.0)\n"
      ],
      "execution_count": 0,
      "outputs": []
    },
    {
      "metadata": {
        "id": "E_a5IXPN1FS4",
        "colab_type": "code",
        "outputId": "93a663bf-9f3f-4a3d-d27b-1f42cd1ec571",
        "colab": {
          "base_uri": "https://localhost:8080/",
          "height": 945
        }
      },
      "cell_type": "code",
      "source": [
        "train=data['train']\n",
        "print (train)"
      ],
      "execution_count": 0,
      "outputs": [
        {
          "output_type": "stream",
          "text": [
            "  (0, 0)\t5\n",
            "  (0, 2)\t4\n",
            "  (0, 5)\t5\n",
            "  (0, 6)\t4\n",
            "  (0, 8)\t5\n",
            "  (0, 11)\t5\n",
            "  (0, 12)\t5\n",
            "  (0, 13)\t5\n",
            "  (0, 14)\t5\n",
            "  (0, 15)\t5\n",
            "  (0, 17)\t4\n",
            "  (0, 18)\t5\n",
            "  (0, 21)\t4\n",
            "  (0, 22)\t4\n",
            "  (0, 24)\t4\n",
            "  (0, 27)\t4\n",
            "  (0, 31)\t5\n",
            "  (0, 38)\t4\n",
            "  (0, 41)\t5\n",
            "  (0, 42)\t4\n",
            "  (0, 43)\t5\n",
            "  (0, 44)\t5\n",
            "  (0, 45)\t4\n",
            "  (0, 46)\t4\n",
            "  (0, 47)\t5\n",
            "  :\t:\n",
            "  (942, 474)\t5\n",
            "  (942, 484)\t5\n",
            "  (942, 507)\t5\n",
            "  (942, 525)\t4\n",
            "  (942, 540)\t4\n",
            "  (942, 545)\t4\n",
            "  (942, 558)\t4\n",
            "  (942, 565)\t4\n",
            "  (942, 575)\t4\n",
            "  (942, 580)\t4\n",
            "  (942, 613)\t5\n",
            "  (942, 654)\t4\n",
            "  (942, 671)\t5\n",
            "  (942, 684)\t4\n",
            "  (942, 716)\t4\n",
            "  (942, 720)\t5\n",
            "  (942, 731)\t4\n",
            "  (942, 738)\t4\n",
            "  (942, 762)\t4\n",
            "  (942, 815)\t4\n",
            "  (942, 823)\t4\n",
            "  (942, 839)\t4\n",
            "  (942, 927)\t5\n",
            "  (942, 942)\t5\n",
            "  (942, 1073)\t4\n"
          ],
          "name": "stdout"
        }
      ]
    },
    {
      "metadata": {
        "id": "zyhaVoV81OtO",
        "colab_type": "code",
        "outputId": "7fc137f6-ec6d-4edc-e2b8-66aad18ea466",
        "colab": {
          "base_uri": "https://localhost:8080/",
          "height": 945
        }
      },
      "cell_type": "code",
      "source": [
        "test=data['test']\n",
        "print(test)"
      ],
      "execution_count": 0,
      "outputs": [
        {
          "output_type": "stream",
          "text": [
            "  (0, 19)\t4\n",
            "  (0, 32)\t4\n",
            "  (0, 60)\t4\n",
            "  (0, 159)\t4\n",
            "  (0, 170)\t5\n",
            "  (0, 201)\t5\n",
            "  (0, 264)\t4\n",
            "  (1, 12)\t4\n",
            "  (1, 49)\t5\n",
            "  (1, 250)\t5\n",
            "  (1, 291)\t4\n",
            "  (1, 296)\t4\n",
            "  (2, 327)\t5\n",
            "  (2, 330)\t4\n",
            "  (3, 49)\t5\n",
            "  (3, 259)\t4\n",
            "  (3, 287)\t4\n",
            "  (3, 293)\t5\n",
            "  (3, 302)\t5\n",
            "  (3, 353)\t5\n",
            "  (3, 356)\t4\n",
            "  (3, 360)\t5\n",
            "  (4, 0)\t4\n",
            "  (4, 16)\t4\n",
            "  (5, 13)\t5\n",
            "  :\t:\n",
            "  (940, 14)\t4\n",
            "  (940, 116)\t5\n",
            "  (940, 123)\t5\n",
            "  (940, 146)\t4\n",
            "  (940, 180)\t5\n",
            "  (940, 256)\t4\n",
            "  (940, 257)\t4\n",
            "  (940, 474)\t4\n",
            "  (940, 992)\t4\n",
            "  (941, 116)\t4\n",
            "  (941, 199)\t4\n",
            "  (941, 260)\t4\n",
            "  (941, 422)\t5\n",
            "  (941, 426)\t5\n",
            "  (941, 486)\t4\n",
            "  (941, 583)\t4\n",
            "  (941, 603)\t4\n",
            "  (942, 10)\t4\n",
            "  (942, 57)\t4\n",
            "  (942, 110)\t4\n",
            "  (942, 185)\t5\n",
            "  (942, 214)\t5\n",
            "  (942, 231)\t4\n",
            "  (942, 355)\t4\n",
            "  (942, 807)\t4\n"
          ],
          "name": "stdout"
        }
      ]
    },
    {
      "metadata": {
        "id": "25hILGZq1zZg",
        "colab_type": "code",
        "outputId": "1e039c32-a546-4ada-ce9e-5ef421971d1b",
        "colab": {
          "base_uri": "https://localhost:8080/",
          "height": 54
        }
      },
      "cell_type": "code",
      "source": [
        "print(repr(data['train']))       #representation of data"
      ],
      "execution_count": 0,
      "outputs": [
        {
          "output_type": "stream",
          "text": [
            "<943x1682 sparse matrix of type '<class 'numpy.int32'>'\n",
            "\twith 49906 stored elements in COOrdinate format>\n"
          ],
          "name": "stdout"
        }
      ]
    },
    {
      "metadata": {
        "id": "qu4VoVIU2Dv4",
        "colab_type": "code",
        "outputId": "8465c0f7-c784-4bf0-ef07-6db5e76ee08c",
        "colab": {
          "base_uri": "https://localhost:8080/",
          "height": 54
        }
      },
      "cell_type": "code",
      "source": [
        "\n",
        "print(repr(data['test']))"
      ],
      "execution_count": 0,
      "outputs": [
        {
          "output_type": "stream",
          "text": [
            "<943x1682 sparse matrix of type '<class 'numpy.int32'>'\n",
            "\twith 5469 stored elements in COOrdinate format>\n"
          ],
          "name": "stdout"
        }
      ]
    },
    {
      "metadata": {
        "id": "t4vO9-f824lp",
        "colab_type": "code",
        "colab": {}
      },
      "cell_type": "code",
      "source": [
        "#create model\n",
        "model = LightFM(loss='warp')\n",
        "#warp=Weighted Approximate-Rank Pairwise loss\n"
      ],
      "execution_count": 0,
      "outputs": []
    },
    {
      "metadata": {
        "id": "tNViKB_p429g",
        "colab_type": "code",
        "outputId": "6022b0df-4e4d-4599-b5d7-83316634d3b0",
        "colab": {
          "base_uri": "https://localhost:8080/",
          "height": 35
        }
      },
      "cell_type": "code",
      "source": [
        "#train model\n",
        "model.fit(data['train'],epochs=30,num_threads=2)"
      ],
      "execution_count": 0,
      "outputs": [
        {
          "output_type": "execute_result",
          "data": {
            "text/plain": [
              "<lightfm.lightfm.LightFM at 0x7fe34ea558d0>"
            ]
          },
          "metadata": {
            "tags": []
          },
          "execution_count": 35
        }
      ]
    },
    {
      "metadata": {
        "id": "coiE-FuA749B",
        "colab_type": "code",
        "colab": {}
      },
      "cell_type": "code",
      "source": [
        "def sample_recommendation(model,data,user_ids):\n",
        "  #no. of usersx and movies in training data\n",
        "  n_users,n_items= data['train'].shape\n",
        "  \n",
        "  #generate recommendations for each user \n",
        "  for user_id in userd_ids:\n",
        "    \n",
        "    #movgies they already like\n",
        "    known_positives = data['item_labels'][data['train'].tocsr()[user_id].indices]\n",
        "    \n",
        "    #movies predict\n",
        "    scores = model.predictor(user_id,np.arange(n_items))\n",
        "    \n",
        "    top_items = data['item_labels'][np.argsort(-scores)]\n",
        "    \n",
        "    #print results\n",
        "    print(\"USER %s\" & user_id)\n",
        "    print(\"known positives\")\n",
        "    \n",
        "    for x in known_positives[:3]:\n",
        "      print(\"            %s\" % x)\n",
        "      \n",
        "    print(\"Recommendations:\")\n",
        "    \n",
        "    for x in top.items[:3]:\n",
        "      print(\"            %s\" % x)\n",
        "      \n",
        "    sample_recommendation(model,data,[3,25,450])\n",
        "      \n",
        "    "
      ],
      "execution_count": 0,
      "outputs": []
    },
    {
      "metadata": {
        "id": "xBo8D-di-0Y_",
        "colab_type": "code",
        "colab": {}
      },
      "cell_type": "code",
      "source": [
        ""
      ],
      "execution_count": 0,
      "outputs": []
    }
  ]
}